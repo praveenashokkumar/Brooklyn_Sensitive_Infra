{
 "cells": [
  {
   "cell_type": "code",
   "execution_count": 1,
   "metadata": {
    "collapsed": false
   },
   "outputs": [
    {
     "name": "stdout",
     "output_type": "stream",
     "text": [
      "Populating the interactive namespace from numpy and matplotlib\n"
     ]
    }
   ],
   "source": [
    "import numpy as np\n",
    "import pandas as pd\n",
    "from pandas import DataFrame\n",
    "import pylab as pl\n",
    "import geopandas as gp\n",
    "from geopandas import GeoDataFrame\n",
    "import scipy.stats\n",
    "import zipfile\n",
    "import shapely\n",
    "%pylab inline"
   ]
  },
  {
   "cell_type": "code",
   "execution_count": 2,
   "metadata": {
    "collapsed": true
   },
   "outputs": [],
   "source": [
    "#buildings = gp.read_file('Building Footprints.geojson')\n",
    "rr = gp.read_file('Railroad Line.geojson')\n",
    "tportstructure = gp.read_file('Transportation Structures.geojson')\n",
    "rrstruct = gp.read_file('Railroad Structure.geojson')"
   ]
  },
  {
   "cell_type": "code",
   "execution_count": 3,
   "metadata": {
    "collapsed": true
   },
   "outputs": [],
   "source": [
    "infrast = pd.concat([ rr, tportstructure, rrstruct])\n",
    "infrast = infrast.reset_index(drop=True)"
   ]
  },
  {
   "cell_type": "code",
   "execution_count": 4,
   "metadata": {
    "collapsed": true
   },
   "outputs": [],
   "source": [
    "#make an empty column for feature name\n",
    "infrast['feat']  = 'NaN'"
   ]
  },
  {
   "cell_type": "code",
   "execution_count": 5,
   "metadata": {
    "collapsed": true
   },
   "outputs": [],
   "source": [
    "infrast.loc[(infrast[infrast.feat_code == '2140'].index),'feat'] = 'elevated station'\n",
    "infrast.loc[(infrast[infrast.feat_code == '2410'].index),'feat'] = 'elevated railroad'\n",
    "infrast.loc[(infrast[infrast.feat_code == '2430'].index),'feat'] = 'viaduct centerline'\n",
    "infrast.loc[(infrast[infrast.feat_code == '2320'].index),'feat'] = 'railbridge'\n",
    "infrast.loc[(infrast[infrast.feat_code == '2300'].index),'feat'] = 'bridge'\n",
    "infrast.loc[(infrast[infrast.feat_code == '2350'].index),'feat'] = 'overpass'\n",
    "infrast.loc[(infrast[infrast.feat_code == '2330'].index),'feat'] = 'pedestian/bike bridge'\n",
    "\n",
    "infrast.loc[(infrast[infrast.feat_code == '2400'].index),'feat'] = 'Railroad'\n",
    "infrast.loc[(infrast[infrast.feat_code == '2420'].index),'feat'] = 'Embarkment Railroad'\n",
    "\n",
    "infrast.loc[(infrast[infrast.feat_code == '2480'].index),'feat'] = 'transit entrance'\n",
    "infrast.loc[(infrast[infrast.feat_code == '2470'].index),'feat'] = 'ventilation grate'\n",
    "infrast.loc[(infrast[infrast.feat_code == '2485'].index),'feat'] = 'emergency exit'"
   ]
  },
  {
   "cell_type": "code",
   "execution_count": 6,
   "metadata": {
    "collapsed": true
   },
   "outputs": [],
   "source": [
    "#make an empty column for Importance Coeff and sensitivity coeff\n",
    "infrast['importance']  = 'NaN'\n",
    "infrast['sensitivity']  = 'NaN'"
   ]
  },
  {
   "cell_type": "code",
   "execution_count": 7,
   "metadata": {
    "collapsed": true
   },
   "outputs": [],
   "source": [
    "infrast.loc[(infrast[infrast.feat_code == '2140'].index),'importance'] = 2\n",
    "infrast.loc[(infrast[infrast.feat_code == '2410'].index),'importance'] = 2\n",
    "infrast.loc[(infrast[infrast.feat_code == '2430'].index),'importance'] = 1\n",
    "infrast.loc[(infrast[infrast.feat_code == '2320'].index),'importance'] = 2\n",
    "infrast.loc[(infrast[infrast.feat_code == '2300'].index),'importance'] = 2\n",
    "infrast.loc[(infrast[infrast.feat_code == '2350'].index),'importance'] = 2\n",
    "infrast.loc[(infrast[infrast.feat_code == '2330'].index),'importance'] = 1\n",
    "\n",
    "infrast.loc[(infrast[infrast.feat_code == '2400'].index),'importance'] = 2\n",
    "infrast.loc[(infrast[infrast.feat_code == '2420'].index),'importance'] = 2\n",
    "\n",
    "infrast.loc[(infrast[infrast.feat_code == '2480'].index),'importance'] = 2\n",
    "infrast.loc[(infrast[infrast.feat_code == '2470'].index),'importance'] = 2\n",
    "infrast.loc[(infrast[infrast.feat_code == '2485'].index),'importance'] = 2"
   ]
  },
  {
   "cell_type": "code",
   "execution_count": 8,
   "metadata": {
    "collapsed": true
   },
   "outputs": [],
   "source": [
    "infrast.loc[(infrast[infrast.feat_code == '2140'].index),'sensitivity'] = 3\n",
    "infrast.loc[(infrast[infrast.feat_code == '2410'].index),'sensitivity'] = 3\n",
    "infrast.loc[(infrast[infrast.feat_code == '2430'].index),'sensitivity'] = 3\n",
    "infrast.loc[(infrast[infrast.feat_code == '2320'].index),'sensitivity'] = 3\n",
    "infrast.loc[(infrast[infrast.feat_code == '2300'].index),'sensitivity'] = 3\n",
    "infrast.loc[(infrast[infrast.feat_code == '2350'].index),'sensitivity'] = 3\n",
    "infrast.loc[(infrast[infrast.feat_code == '2330'].index),'sensitivity'] = 3\n",
    "\n",
    "infrast.loc[(infrast[infrast.feat_code == '2400'].index),'sensitivity'] = 2\n",
    "infrast.loc[(infrast[infrast.feat_code == '2420'].index),'sensitivity'] = 2\n",
    "\n",
    "infrast.loc[(infrast[infrast.feat_code == '2480'].index),'sensitivity'] = 1\n",
    "infrast.loc[(infrast[infrast.feat_code == '2470'].index),'sensitivity'] = 1\n",
    "infrast.loc[(infrast[infrast.feat_code == '2485'].index),'sensitivity'] = 1"
   ]
  },
  {
   "cell_type": "code",
   "execution_count": 9,
   "metadata": {
    "collapsed": true
   },
   "outputs": [],
   "source": [
    "boroCT = gp.read_file('ct_shape.shp')"
   ]
  },
  {
   "cell_type": "code",
   "execution_count": null,
   "metadata": {
    "collapsed": true
   },
   "outputs": [],
   "source": [
    "a = []\n",
    "for i in range(len(infrast)):\n",
    "    try:\n",
    "        a.append(boroCT[boroCT.geometry.intersects \\\n",
    "                (infrast.iloc[i].geometry.centroid)].values[0][0])\n",
    "    except IndexError:\n",
    "        a.append(0)"
   ]
  }
 ],
 "metadata": {
  "kernelspec": {
   "display_name": "PUI2016_Python3",
   "language": "python",
   "name": "pui2016_python3"
  },
  "language_info": {
   "codemirror_mode": {
    "name": "ipython",
    "version": 3
   },
   "file_extension": ".py",
   "mimetype": "text/x-python",
   "name": "python",
   "nbconvert_exporter": "python",
   "pygments_lexer": "ipython3",
   "version": "3.5.2"
  }
 },
 "nbformat": 4,
 "nbformat_minor": 0
}
